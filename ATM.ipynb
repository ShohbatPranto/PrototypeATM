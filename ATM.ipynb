{
  "cells": [
    {
      "cell_type": "markdown",
      "metadata": {
        "id": "view-in-github",
        "colab_type": "text"
      },
      "source": [
        "<a href=\"https://colab.research.google.com/github/ShohbatPranto/PrototypeATM/blob/main/ATM.ipynb\" target=\"_parent\"><img src=\"https://colab.research.google.com/assets/colab-badge.svg\" alt=\"Open In Colab\"/></a>"
      ]
    },
    {
      "cell_type": "code",
      "execution_count": null,
      "metadata": {
        "colab": {
          "background_save": true
        },
        "id": "6Gx1cWYNE0I9",
        "outputId": "57381141-d280-4dbb-96d4-4de0f0522b37"
      },
      "outputs": [
        {
          "name": "stdout",
          "output_type": "stream",
          "text": [
            "Welcome to Pranto's ATM machine.\n",
            "The machine started.\n",
            "Type Stop to stop it.\n",
            "Invalid username.\n",
            "Do you want to create a new account? Y/N\n",
            "Write your username.\n",
            "Your Balance is: 0\n"
          ]
        }
      ],
      "source": [
        "#ATM basic\n",
        "accounts = ['ShohbatPranto','BlueDragon','HollowPurple','FinalFlash','ThunderBreathing']\n",
        "balance = 0\n",
        "print(\"Welcome to Pranto's ATM machine.\")\n",
        "print('The machine started.\\nType Stop to stop it.')\n",
        "valid = False\n",
        "while True:\n",
        "  x = input('Enter Username: ')\n",
        "  if x == 'Stop':\n",
        "    print('The machine will stop now.')\n",
        "    break\n",
        "  elif x not in accounts:\n",
        "    print('Invalid username.')\n",
        "    print('Do you want to create a new account? Y/N')\n",
        "    a = input()\n",
        "    while True:\n",
        "      if a == 'Y':\n",
        "        print('Write your username.')\n",
        "        u = input()\n",
        "        accounts.append(u)\n",
        "        break\n",
        "      elif a == 'N':\n",
        "        print('Try entering your username again')\n",
        "        break\n",
        "      else:\n",
        "        print('Invalid command, try again.')\n",
        "  else:\n",
        "    valid = True\n",
        "    break\n",
        "if valid:\n",
        "  print('Your Balance is:',balance)\n",
        "while valid:\n",
        "  y = input('Deposit/Withdraw/Check Balance/Stop:')\n",
        "  if y == 'Deposit':\n",
        "    d = int(input('Amount: '))\n",
        "    balance += d\n",
        "  elif y == 'Withdraw':\n",
        "    w = int(input('Amount: '))\n",
        "    balance -= d\n",
        "  elif y == 'Check Balance':\n",
        "    print('Your Balance is:',balance)\n",
        "  elif y == 'Stop':\n",
        "    print('Your Balance is:',balance,'\\nThe machine will stop now')\n",
        "    break\n",
        "  else:\n",
        "    print('Invalid command. Try again!')"
      ]
    }
  ],
  "metadata": {
    "colab": {
      "provenance": [],
      "authorship_tag": "ABX9TyNdFpT9NqIkrYIyMlcpn188",
      "include_colab_link": true
    },
    "kernelspec": {
      "display_name": "Python 3",
      "name": "python3"
    },
    "language_info": {
      "name": "python"
    }
  },
  "nbformat": 4,
  "nbformat_minor": 0
}